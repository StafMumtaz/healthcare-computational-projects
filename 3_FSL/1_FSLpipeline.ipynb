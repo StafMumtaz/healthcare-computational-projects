{
 "cells": [
  {
   "cell_type": "markdown",
   "id": "0157e861-4a63-4bb6-a020-ea7809b769bb",
   "metadata": {},
   "source": [
    "# 9. Prepared Scripts\n",
    "\n",
    "This File is a demonstration of the series of scripts used to transform brain imaging data in the form of an MRI scans of multiple patients to a map of 3-dimensional values representing white matter structural integrity standardized across patients, to then compare group differences in white matter structural integrity. Real deployment requires access to restricted school hard drives and private data, so function of each cell will be described. \n",
    "\n",
    "**Directory**: /departments/Psychiatry/NBOLD/DTI/Mustafa_DTI_Study_1/"
   ]
  },
  {
   "cell_type": "markdown",
   "id": "6533a829-fb63-4138-97bf-77f6fe0f3f0f",
   "metadata": {},
   "source": [
    "### s1_Patient_Data_Acquisition.sh"
   ]
  },
  {
   "cell_type": "code",
   "execution_count": null,
   "id": "b6dee422-510b-464d-be76-cd817719ddae",
   "metadata": {},
   "outputs": [],
   "source": [
    "%%bash\n",
    "DIR_NBOLD=\"/departments/Psychiatry/NBOLD/DTI/Data/\"\n",
    "DIR_OUTPUT=\"/departments/Psychiatry/NBOLD/DTI/Mustafa_DTI_Study_2/\"\n",
    "REF=\"/departments/Psychiatry/NBOLD/DTI/Mustafa_DTI_Study_1/Patient_Status.csv\"\n",
    "\n",
    "echo \"Moving Patient Data Files Into Current Directory\"\n",
    "names=$(awk -F, '{print $1}' \"$REF\")\n",
    "\n",
    "# List of required files\n",
    "required_files=(\n",
    "    \"DTI.bval\"\n",
    "    \"DTI.nii.gz\"\n",
    "    \"DTI_A_P.nii\"\n",
    "    \"DTI.bvec\"\n",
    "    \"DTI_P_A.nii\"\n",
    "    \"index.txt\"\n",
    ")\n",
    "\n",
    "for name in $names; do\n",
    "    # Check if the directory exists\n",
    "    if [ -d \"$DIR_NBOLD/$name\" ]; then\n",
    "        all_files_present=true\n",
    "        for file in \"${required_files[@]}\"; do\n",
    "            if [ ! -f \"$DIR_NBOLD/$name/$file\" ]; then\n",
    "                all_files_present=false\n",
    "                break\n",
    "            fi\n",
    "        done\n",
    "\n",
    "        if [ \"$all_files_present\" = true ]; then\n",
    "            # Create the output directory if it doesn't exist\n",
    "            mkdir -p \"$DIR_OUTPUT/$name\"\n",
    "            # Copy only the required files\n",
    "            for file in \"${required_files[@]}\"; do\n",
    "                cp \"$DIR_NBOLD/$name/$file\" \"$DIR_OUTPUT/$name/\"\n",
    "            done\n",
    "            # Echo success message\n",
    "            echo \"Directory '$name' found and required files copied.\"\n",
    "        else\n",
    "            # Echo missing file message\n",
    "            echo \"Directory '$name' does not contain all required files.\"\n",
    "        fi\n",
    "    else\n",
    "        # Echo missing directory message\n",
    "        echo \"Directory '$name' not found.\"\n",
    "    fi\n",
    "done"
   ]
  },
  {
   "cell_type": "markdown",
   "id": "59a55c37-e777-43b5-ad34-1b275025a710",
   "metadata": {},
   "source": [
    "This ensures each patient folder contains necessary analysis files and then transports it into the working directory.  "
   ]
  },
  {
   "cell_type": "markdown",
   "id": "5e51cafe-7b66-4520-94eb-6d36c3ae7523",
   "metadata": {},
   "source": [
    "### s2_Flirt_Topup.sh"
   ]
  },
  {
   "cell_type": "code",
   "execution_count": null,
   "id": "d9537680-1266-4096-938f-2a3b880ec4c0",
   "metadata": {},
   "outputs": [],
   "source": [
    "%%bash\n",
    "DIR_NBOLD=\"/departments/Psychiatry/NBOLD/DTI/Data/\"\n",
    "DIR_OUTPUT=\"/departments/Psychiatry/NBOLD/DTI/Mustafa_DTI_Study_1/\"\n",
    "REF=\"/departments/Psychiatry/NBOLD/DTI/Mustafa_DTI_Study_1/Patient_Status.csv\"\n",
    "\n",
    "# Resampling Phase Encoding Images to match DTI Data Acquisition\n",
    "# Parameters; necessary prerequisite for running eddy\n",
    "for dir in S*; do\n",
    "  if [ -d \"$dir\" ]; then\n",
    "    cd \"$dir\"\n",
    "    if [ -f \"AP_PA_b0.nii.gz\" ] && [ -f \"DTI.nii.gz\" ]; then\n",
    "      echo \"Files are present in $dir, running flirt command.\"\n",
    "      flirt -in AP_PA_b0.nii.gz -ref DTI.nii.gz -applyisoxfm 2.000 -out AP_PA_b0_resampled\n",
    "    else\n",
    "      echo \"Error: Required files are missing in $dir\"\n",
    "    fi\n",
    "    cd ..\n",
    "  fi\n",
    "done\n",
    "\n",
    "# Running Topup; Ensuring Process Continues subsequent to \n",
    "# User signoff\n",
    "nohup bash -c 'for dir in S*/; do\n",
    "  if [ -f \"${dir}AP_PA_b0_resampled.nii.gz\" ] && [ -f \"${dir}acqparams.txt\" ]; then\n",
    "    echo \"Running topup in directory: ${dir}\" >> topup_output.log\n",
    "    topup --imain=\"${dir}AP_PA_b0_resampled\" \\\n",
    "          --datain=\"${dir}acqparams.txt\" \\\n",
    "          --config=b02b0.cnf \\\n",
    "          --out=\"${dir}topup_AP_PA_b0\" \\\n",
    "          --iout=\"${dir}topup_AP_PA_b0_iout\" \\\n",
    "          --fout=\"${dir}topup_AP_PA_b0_fout\" >> topup_output.log 2>&1\n",
    "  else\n",
    "    echo \"Required files not found in directory: ${dir}\" >> topup_output.log\n",
    "  fi\n",
    "done' > nohup.log 2>&1 &\n",
    "\n",
    "# Checking for presence of topup_AP_PA_b0_fieldcoef.nii.gz\n",
    "# as indication of successful running of topup\n",
    "echo \"Checking for topup_AP_PA_b0_fieldcoef.nii.gz in each folder starting with S\"\n",
    "for dir in S*; do\n",
    "  if [ -d \"$dir\" ]; then\n",
    "    if [ -f \"${dir}/topup_AP_PA_b0_fieldcoef.nii.gz\" ]; then\n",
    "      echo \"Directory '$dir' contains topup_AP_PA_b0_fieldcoef.nii.gz\"\n",
    "    else\n",
    "      echo \"Directory '$dir' does NOT contain topup_AP_PA_b0_fieldcoef.nii.gz\"\n",
    "    fi\n",
    "  fi\n",
    "done"
   ]
  },
  {
   "cell_type": "markdown",
   "id": "190c6b67-0519-4a98-9545-9c9571eaeb26",
   "metadata": {},
   "source": [
    "This corrects for distortions in MRI data using prebaked function and resamples images to allow for comparison. Nohup function used going here and onwards to allow for script to run in background."
   ]
  },
  {
   "cell_type": "markdown",
   "id": "e1cd82ca-5686-43bc-8891-24bafa0c127f",
   "metadata": {},
   "source": [
    "### s3_BET_Eddy.sh"
   ]
  },
  {
   "cell_type": "code",
   "execution_count": null,
   "id": "c0b36fca-fcaf-46b6-a881-abda99b438fe",
   "metadata": {},
   "outputs": [],
   "source": [
    "%%bash\n",
    "DIR_NBOLD=\"/departments/Psychiatry/NBOLD/DTI/Data/\"\n",
    "DIR_OUTPUT=\"/departments/Psychiatry/NBOLD/DTI/Mustafa_DTI_Study_1/\"\n",
    "REF=\"/departments/Psychiatry/NBOLD/DTI/Mustafa_DTI_Study_1/Patient_Status.csv\"\n",
    "\n",
    "# Create hifi nodif file to feed into BET\n",
    "for dir in S*; do \n",
    "    if [ -d \"$dir\" ]; then \n",
    "        if [ -f \"$dir/topup_AP_PA_b0_iout.nii.gz\" ]; then \n",
    "            echo \"Running fslmaths in $dir\"\n",
    "            (cd \"$dir\" && fslmaths topup_AP_PA_b0_iout -Tmean hifi_nodif); \n",
    "        else \n",
    "            echo \"File topup_AP_PA_b0_iout.nii.gz not found in $dir\"; \n",
    "        fi; \n",
    "    fi; \n",
    "done\n",
    "\n",
    "# Run BET to extract brain mask\n",
    "for dir in S*; do \n",
    "    if [ -d \"$dir\" ]; then \n",
    "        if [ -f \"$dir/hifi_nodif.nii.gz\" ]; then \n",
    "            echo \"Running bet in $dir\"\n",
    "            (cd \"$dir\" && bet hifi_nodif hifi_nodif_brain -m -f 0.3); \n",
    "        else \n",
    "            echo \"File hifi_nodif.nii.gz not found in $dir\"; \n",
    "        fi; \n",
    "    fi; \n",
    "done\n",
    "\n",
    "# Run Eddy with persistence subsequent to user signoff\n",
    "nohup bash -c '\n",
    "for dir in S*; do \n",
    "    if [ -d \"$dir\" ]; then \n",
    "        if [ -f \"$dir/DTI.nii.gz\" ] && [ -f \"$dir/hifi_nodif_brain_mask.nii.gz\" ] && [ -f \"$dir/index.txt\" ] && [ -f \"$dir/acqparams.txt\" ] && [ -f \"$dir/DTI.bvec\" ] && [ -f \"$dir/DTI.bval\" ]; then \n",
    "            (cd \"$dir\" && eddy --imain=DTI \\\n",
    "                 --mask=hifi_nodif_brain_mask \\\n",
    "                 --index=index.txt \\\n",
    "                 --acqp=acqparams.txt \\\n",
    "                 --bvecs=DTI.bvec \\\n",
    "                 --bvals=DTI.bval \\\n",
    "                 --fwhm=0 \\\n",
    "                 --topup=topup_AP_PA_b0 \\\n",
    "                 --flm=quadratic \\\n",
    "                 --out=eddy_unwarped_images); \n",
    "        else \n",
    "            echo \"Required files not found in $dir\"; \n",
    "        fi; \n",
    "    fi; \n",
    "done\n",
    "' > eddy_batch.log 2>&1 &"
   ]
  },
  {
   "cell_type": "markdown",
   "id": "ab54c8a7-7771-4b2a-ad70-5be88bcc7b42",
   "metadata": {},
   "source": [
    "BET function creates a brain mask to remove skull and o/ non brain tissue. \n",
    "Eddy function corrects for other standard MRI artifacting like motion and eddy currents."
   ]
  },
  {
   "cell_type": "markdown",
   "id": "6ed94f55-697b-42a6-9f9a-8cc68c41db07",
   "metadata": {},
   "source": [
    "### s4_Dtifit.sh"
   ]
  },
  {
   "cell_type": "code",
   "execution_count": null,
   "id": "832c2a80-60d4-464b-baec-3d6d75bc64c2",
   "metadata": {},
   "outputs": [],
   "source": [
    "%%bash\n",
    "DIR_NBOLD=\"/departments/Psychiatry/NBOLD/DTI/Data/\"\n",
    "DIR_OUTPUT=\"/departments/Psychiatry/NBOLD/DTI/Mustafa_DTI_Study_1/\"\n",
    "REF=\"/departments/Psychiatry/NBOLD/DTI/Mustafa_DTI_Study_1/Patient_Status.csv\"\n",
    "# CONTEXT \n",
    "# This script was designed so it could be run concurrently with eddy\n",
    "# Should not change functionality if eddy is already completed\n",
    "\n",
    "nohup bash -c '\n",
    "processed_dirs=\"processed_dirs.txt\"\n",
    "# Initialize the processed directories file if it doesn't exist\n",
    "if [ ! -f $processed_dirs ]; then\n",
    "    touch $processed_dirs\n",
    "fi\n",
    "\n",
    "while true; do\n",
    "    for dir in S*/; do\n",
    "        if grep -Fxq \"$dir\" $processed_dirs; then\n",
    "            # Directory already processed, skip it\n",
    "            continue\n",
    "        fi\n",
    "\n",
    "        if [ -f \"${dir}eddy_unwarped_images.nii.gz\" ]; then\n",
    "            echo \"Running dtifit in directory: ${dir}\"\n",
    "            (cd \"$dir\" && dtifit -k eddy_unwarped_images -o dti -m hifi_nodif_brain_mask -r DTI.bvec -b DTI.bval)\n",
    "            \n",
    "            # Mark this directory as processed\n",
    "            echo \"$dir\" >> $processed_dirs\n",
    "        else\n",
    "            echo \"eddy_unwarped_images.nii.gz not found in directory: ${dir}\"\n",
    "        fi\n",
    "    done\n",
    "    # Check if all directories are processed\n",
    "    all_processed=true\n",
    "    for dir in S*/; do\n",
    "        if ! grep -Fxq \"$dir\" $processed_dirs; then\n",
    "            all_processed=false\n",
    "            break\n",
    "        fi\n",
    "    done\n",
    "    if $all_processed; then\n",
    "        echo \"All directories processed. Exiting.\"\n",
    "        break\n",
    "    fi\n",
    "    echo \"Waiting for 5 minutes before checking again...\"\n",
    "    sleep 300  # Wait for 5 minutes before checking again\n",
    "done\n",
    "' > dtifit_batch.log 2>&1 &"
   ]
  },
  {
   "cell_type": "markdown",
   "id": "c28cefbf-2c7b-4025-95fe-6223a6360851",
   "metadata": {},
   "source": [
    "Extracts a diffusion tensor model from each voxel of brain data. \n",
    "Then generates second order Fractional Anistropy map, a more direct proxy for white matter structural integrity. "
   ]
  },
  {
   "cell_type": "markdown",
   "id": "7c323544-10e9-4ac1-ad62-3a070b2661fc",
   "metadata": {},
   "source": [
    "### s5_TBSS_Prep.sh"
   ]
  },
  {
   "cell_type": "code",
   "execution_count": null,
   "id": "24cc5c42-2ee1-4689-8d06-5dd2274d13f5",
   "metadata": {},
   "outputs": [],
   "source": [
    "%%bash\n",
    "# Copy all FA images into sub-directory TBSS\n",
    "for dir in S*; do\n",
    "    if [ -d \"$dir\" ]; then\n",
    "        # Define the source file path\n",
    "        src_file=\"$dir/dti_FA.nii.gz\"\n",
    "        \n",
    "        if [ -f \"$src_file\" ]; then\n",
    "            # Define the destination file path with the new name\n",
    "            dest_file=\"TBSS/${dir}_dti_FA.nii.gz\"\n",
    "            \n",
    "            # Copy and rename the file\n",
    "            cp \"$src_file\" \"$dest_file\"\n",
    "            \n",
    "            # Echo success message\n",
    "            echo \"Copied and renamed $src_file to $dest_file\"\n",
    "        else\n",
    "            # Echo missing file message\n",
    "            echo \"File $src_file not found in directory $dir\"\n",
    "        fi\n",
    "    fi\n",
    "done\n",
    "\n",
    "# Rename patient images to order by relapse/non-relapse status\n",
    "cd TBSS || { echo \"Directory TBSS not found\"; exit 1; }\n",
    "for dir in S*/; do\n",
    "    folder_name=$(basename \"$dir\" /)\n",
    "    status=$(awk -F, -v name=\"$folder_name\" '$1 == name {print $2}' Patient_Status.csv)\n",
    "    if [[ $status == \"Relapsed\" ]]; then\n",
    "        new_name=\"1${folder_name}_FA.nii.gz\"\n",
    "    elif [[ $status == \"Non-Relapsed\" ]]; then\n",
    "        new_name=\"2${folder_name}_FA.nii.gz\"\n",
    "    else\n",
    "        continue\n",
    "    fi\n",
    "    mv \"$dir/dti_FA.nii.gz\" \"$dir/$new_name\"\n",
    "done\n",
    "\n",
    "#Checks to ensure folders were found\n",
    "for dir in S*/; do\n",
    "    folder_name=$(basename \"$dir\" /)\n",
    "    files=$(find \"$dir\" -maxdepth 1 -type f -name '[12]*')\n",
    "    if [[ -z $files ]]; then\n",
    "        echo \"In $folder_name: No files starting with 1 or 2 found\"\n",
    "    else\n",
    "        echo \"In $folder_name:\"\n",
    "        echo \"$files\"\n",
    "    fi\n",
    "done"
   ]
  },
  {
   "cell_type": "markdown",
   "id": "6706427c-80ee-4fbf-9f31-48b386bcb658",
   "metadata": {},
   "source": [
    "Data preparation for group comparisons. Moves files into new directory, classifies patients based on clinical data. "
   ]
  },
  {
   "cell_type": "markdown",
   "id": "70141eb1-06ab-4811-ab39-2082ac292c04",
   "metadata": {},
   "source": [
    "**Directory**: /departments/Psychiatry/NBOLD/DTI/Mustafa_DTI_Study_1/TBSS/\n",
    "\n",
    "### s6_Skeletonize.sh"
   ]
  },
  {
   "cell_type": "code",
   "execution_count": null,
   "id": "3ec73975-c47a-4adc-9a4d-8711038b6151",
   "metadata": {},
   "outputs": [],
   "source": [
    "%%bash\n",
    "# Cut out end slices in all FA images\n",
    "tbss_1_preproc *.nii.gz\n",
    "\n",
    "# Bootstrap to find optimal registration target\n",
    "# Preferred method because our patient data is different from \n",
    "# Standard adult brain from MNI\n",
    "cd FA || {echo \"Directory FA not found\"; exit 1;}\n",
    "tbss_2_reg -n\n",
    "\n",
    "#Registration\n",
    "tbss_3_postreg -S\n",
    "\n",
    "# threshold skeleton from output mean_FA file\n",
    "cd ../stats || { echo \"Directory TBSS/stats not found\"; exit 1; }\n",
    "tbss_4_prestats 0.2"
   ]
  },
  {
   "cell_type": "markdown",
   "id": "dc74ca52-d6c1-4a59-990a-9b50a374e2e2",
   "metadata": {},
   "source": [
    "Final preparation of Fractional Anistropy data before group comparison. \n",
    "Cutout slices of data, generate white matter tracts and mean value benchmark. \n",
    "Creates files for final analysis. "
   ]
  },
  {
   "cell_type": "markdown",
   "id": "c9b05039-a857-43fb-ad6a-89d98f93562a",
   "metadata": {},
   "source": [
    "### s7_READ_ME\n",
    "\n",
    "In order to run T tests on patient data, we need two files containing information about the design of our study. I completed this utilizing the GUI information from the tutorial, and will paste below the tutorial guidelines I followed in order to do so, with the modifications made such that it is applicable to our sample.\n",
    "\n",
    "Please note: the GUI opens multiple windows simultanously. You can and should set them up side by side and adjust settings together. They all combine to produce a single set of files for one experiment design.\n",
    "\n",
    "Tutorial Instructions:\n",
    "Navigate into stats directory\n",
    "\n",
    "Type \"Glm\" into command window to open GUI for application\n",
    "\n",
    "In the windows:\n",
    "Change **Timeseries design** to *Higher-level / non-timeseries design*. \n",
    "Change the # of inputs to 43 (you may have to press the enter key after typing in 43) and then use the **Wizard** to setup the *Two-groups, unpaired, t-test* with 23 as the *Number of subjects in first group* (Note that the order of the subjects will be important in this design). Reduce the number of contrasts to 2 (we're not interested in the group means on their own). Finally, save the design as filename design, and in the terminal use less to look at the design.mat and design.con files."
   ]
  },
  {
   "cell_type": "markdown",
   "id": "7b07c6f9-24b7-47df-84cc-ea2227b1be6e",
   "metadata": {},
   "source": [
    "Setting up statistical test for Fractional Anistropy values between 2 clinical groups was far more straight forward using graphical user interface, so file gives instructions on doing so. "
   ]
  },
  {
   "cell_type": "markdown",
   "id": "3503d0c7-aecd-4924-a19c-f7439c6a8fdf",
   "metadata": {},
   "source": [
    "### s8_Ttest.sh"
   ]
  },
  {
   "cell_type": "code",
   "execution_count": null,
   "id": "29cb2915-ead1-4ae6-bc4e-962163380132",
   "metadata": {},
   "outputs": [],
   "source": [
    "%%bash\n",
    "# Run T-test\n",
    "cd ../stats || { echo \"Directory TBSS/stats not found\"; exit 1; }\n",
    "randomise -i all_FA_skeletonised -o tbss \\\n",
    "  -m mean_FA_skeleton_mask -d design.mat -t design.con --T2\n",
    "  \n",
    "# Visualize T-test\n",
    "fsleyes -std1mm mean_FA_skeleton -cm green -dr .3 .7 \\\n",
    "  tbss_tstat1 -cm red-yellow -dr 1.5 3 \\\n",
    "  tbss_tfce_corrp_tstat1.nii.gz -cm blue-lightblue -dr 0.949 1 &cd ."
   ]
  },
  {
   "cell_type": "markdown",
   "id": "6a9c8a41-86bf-4782-82f7-aa66079e2c16",
   "metadata": {},
   "source": [
    "Runs permutation testing for signficant differences between groups and visualizes results\n",
    "- Green: Raw skeleton\n",
    "- Red-yellow: Raw t-statistic\n",
    "- Blue: statistic corrected for significance."
   ]
  }
 ],
 "metadata": {
  "kernelspec": {
   "display_name": "Python 3 (ipykernel)",
   "language": "python",
   "name": "python3"
  },
  "language_info": {
   "codemirror_mode": {
    "name": "ipython",
    "version": 3
   },
   "file_extension": ".py",
   "mimetype": "text/x-python",
   "name": "python",
   "nbconvert_exporter": "python",
   "pygments_lexer": "ipython3",
   "version": "3.11.4"
  }
 },
 "nbformat": 4,
 "nbformat_minor": 5
}
